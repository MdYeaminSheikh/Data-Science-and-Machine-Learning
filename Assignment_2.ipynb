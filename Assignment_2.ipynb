{
 "cells": [
  {
   "cell_type": "markdown",
   "id": "ce543e74",
   "metadata": {},
   "source": [
    "1. Write a program that swaps the values of two variables."
   ]
  },
  {
   "cell_type": "code",
   "execution_count": 2,
   "id": "41e5aebf",
   "metadata": {},
   "outputs": [
    {
     "name": "stdout",
     "output_type": "stream",
     "text": [
      "a =  15\n",
      "b =  10\n"
     ]
    }
   ],
   "source": [
    "a=10\n",
    "b=15\n",
    "first=a\n",
    "a=b\n",
    "b=first\n",
    "print(\"a = \",a)\n",
    "print(\"b = \",b)"
   ]
  },
  {
   "cell_type": "markdown",
   "id": "66ebca38",
   "metadata": {},
   "source": [
    "2. Write a program that calculates the area of a rectangle given its length and width."
   ]
  },
  {
   "cell_type": "code",
   "execution_count": 3,
   "id": "c9be3f30",
   "metadata": {},
   "outputs": [
    {
     "name": "stdout",
     "output_type": "stream",
     "text": [
      "The Area of a Rectangle  200\n"
     ]
    }
   ],
   "source": [
    "length=20\n",
    "width=10\n",
    "area=length*width\n",
    "print(\"The Area of a Rectangle \",area)"
   ]
  },
  {
   "cell_type": "markdown",
   "id": "ae5e2b6e",
   "metadata": {},
   "source": [
    "3. Write a program that converts temperature from Fahrenheit to Celsius."
   ]
  },
  {
   "cell_type": "code",
   "execution_count": 5,
   "id": "8b2b58c0",
   "metadata": {},
   "outputs": [
    {
     "name": "stdout",
     "output_type": "stream",
     "text": [
      "Converts temperature from 40 Fahrenheit to Celsius  4.48\n"
     ]
    }
   ],
   "source": [
    "T_fahrenheit=40\n",
    "celsius=0.56*(T_fahrenheit-32)\n",
    "print(f\"Converts temperature from 40 Fahrenheit to Celsius \",celsius)"
   ]
  },
  {
   "cell_type": "markdown",
   "id": "0a7b21ad",
   "metadata": {},
   "source": [
    "4. Write a program that calculates the volume of a sphere given its radius."
   ]
  },
  {
   "cell_type": "code",
   "execution_count": 8,
   "id": "d643e1ac",
   "metadata": {},
   "outputs": [
    {
     "name": "stdout",
     "output_type": "stream",
     "text": [
      "The valume of a Sphere  267.4123666735632\n"
     ]
    }
   ],
   "source": [
    "import math\n",
    "radius=4\n",
    "volume=1.33*math.pi*radius**3\n",
    "print(\"The valume of a Sphere \",volume)"
   ]
  },
  {
   "cell_type": "markdown",
   "id": "11651f50",
   "metadata": {},
   "source": [
    "5. Write a program that finds the average of three numbers."
   ]
  },
  {
   "cell_type": "code",
   "execution_count": 9,
   "id": "c82563e7",
   "metadata": {},
   "outputs": [
    {
     "name": "stdout",
     "output_type": "stream",
     "text": [
      "The average of three numbers are  20.0\n"
     ]
    }
   ],
   "source": [
    "a=10\n",
    "b=20\n",
    "c=30\n",
    "Average=(a+b+c)/3\n",
    "print(\"The average of three numbers are \",Average)"
   ]
  },
  {
   "cell_type": "markdown",
   "id": "fd66e4c8",
   "metadata": {},
   "source": [
    "6. Write a program that determines if a number is even or odd."
   ]
  },
  {
   "cell_type": "code",
   "execution_count": 12,
   "id": "21f53bda",
   "metadata": {},
   "outputs": [
    {
     "name": "stdout",
     "output_type": "stream",
     "text": [
      "Enter your number: 23\n",
      "23 is odd number.\n"
     ]
    }
   ],
   "source": [
    "num=int(input(\"Enter your number: \"))\n",
    "if num%2==0:\n",
    "    print(num,\"is even number.\")\n",
    "else:\n",
    "    print(num,\"is odd number.\")"
   ]
  },
  {
   "cell_type": "markdown",
   "id": "d73cac7e",
   "metadata": {},
   "source": [
    "7. Write a program that finds the maximum of three numbers."
   ]
  },
  {
   "cell_type": "code",
   "execution_count": 13,
   "id": "963a6066",
   "metadata": {},
   "outputs": [
    {
     "name": "stdout",
     "output_type": "stream",
     "text": [
      "Maximum Number is  30\n"
     ]
    }
   ],
   "source": [
    "a=10\n",
    "b=20\n",
    "c=30\n",
    "if a>b and a>c:\n",
    "    print(\"Maximum Number is \",a)\n",
    "elif b>a and b>c:\n",
    "    print(\"Maximum Number is \",b)\n",
    "else:\n",
    "    print(\"Maximum Number is \",c)"
   ]
  },
  {
   "cell_type": "markdown",
   "id": "6de5487f",
   "metadata": {},
   "source": [
    "8. Write a program that determines if a year is a leap year or not."
   ]
  },
  {
   "cell_type": "code",
   "execution_count": 14,
   "id": "106c8a75",
   "metadata": {},
   "outputs": [
    {
     "name": "stdout",
     "output_type": "stream",
     "text": [
      "Enter your selected year:2024\n",
      "Leap year.\n"
     ]
    }
   ],
   "source": [
    "year=int(input(\"Enter your selected year:\"))\n",
    "if year%4==0:\n",
    "    if year%100==0:\n",
    "        if year%400==0:\n",
    "            print(\"Leap year.\")\n",
    "        else:\n",
    "            print(\"Not Leap year.\")\n",
    "    else:\n",
    "        print(\"Leap year.\")\n",
    "else:\n",
    "    print(\"Not Leap year.\")"
   ]
  },
  {
   "cell_type": "code",
   "execution_count": null,
   "id": "bb01e849",
   "metadata": {},
   "outputs": [],
   "source": [
    "9. Write a program that determines if a number is positive, negative, or zero."
   ]
  },
  {
   "cell_type": "code",
   "execution_count": 17,
   "id": "d1a92202",
   "metadata": {},
   "outputs": [
    {
     "name": "stdout",
     "output_type": "stream",
     "text": [
      "Enter your number: -12\n",
      "Negative Number.\n"
     ]
    }
   ],
   "source": [
    "num=int(input(\"Enter your number: \"))\n",
    "if num>0:\n",
    "    print(\"Positive Number.\")\n",
    "elif num<0:\n",
    "    print(\"Negative Number.\")\n",
    "else:\n",
    "    print(\"Zero.\")"
   ]
  },
  {
   "cell_type": "markdown",
   "id": "b1c25441",
   "metadata": {},
   "source": [
    "10. Write a program that calculates the grade based on a given percentage."
   ]
  },
  {
   "cell_type": "code",
   "execution_count": 2,
   "id": "830725bc",
   "metadata": {},
   "outputs": [
    {
     "name": "stdout",
     "output_type": "stream",
     "text": [
      "Enter your grade:69\n",
      "A-\n"
     ]
    }
   ],
   "source": [
    "grade= int(input(\"Enter your grade:\"))\n",
    "if grade>=80:\n",
    "    print(\"A+\")\n",
    "elif grade>=70:\n",
    "    print(\"A\")\n",
    "elif grade>=60:\n",
    "    print(\"A-\")\n",
    "elif grade>=50:\n",
    "    print(\"B\")\n",
    "elif grade>=40:\n",
    "    print(\"C\")\n",
    "elif grade>=33:\n",
    "    print(\"D\")\n",
    "else:\n",
    "    print(\"Fail\")"
   ]
  },
  {
   "cell_type": "markdown",
   "id": "0b641c30",
   "metadata": {},
   "source": [
    "11. Write a program that prints the first `n` natural numbers."
   ]
  },
  {
   "cell_type": "code",
   "execution_count": 3,
   "id": "a320555f",
   "metadata": {},
   "outputs": [
    {
     "name": "stdout",
     "output_type": "stream",
     "text": [
      "Enter your number:5\n",
      "1\n",
      "2\n",
      "3\n",
      "4\n",
      "5\n"
     ]
    }
   ],
   "source": [
    "num=int(input(\"Enter your number:\"))\n",
    "for i in range(1,num+1):\n",
    "    print(i)"
   ]
  },
  {
   "cell_type": "markdown",
   "id": "be875ca3",
   "metadata": {},
   "source": [
    "12. Write a program that calculates the factorial of a number."
   ]
  },
  {
   "cell_type": "code",
   "execution_count": 4,
   "id": "fee5b697",
   "metadata": {},
   "outputs": [
    {
     "name": "stdout",
     "output_type": "stream",
     "text": [
      "Inter your number:5\n",
      "120\n"
     ]
    }
   ],
   "source": [
    "fact=int(input(\"Inter your number:\"))\n",
    "result=1\n",
    "for i in range(1,fact+1):\n",
    "    result=result*i\n",
    "print(result)"
   ]
  },
  {
   "cell_type": "markdown",
   "id": "471325d3",
   "metadata": {},
   "source": [
    "13. Write a program that generates a Fibonacci sequence of length `n`."
   ]
  },
  {
   "cell_type": "code",
   "execution_count": 6,
   "id": "e3e89b6f",
   "metadata": {},
   "outputs": [
    {
     "name": "stdout",
     "output_type": "stream",
     "text": [
      "Enter your number:5\n",
      "Fibonacci sequence of length  5  is [0, 1, 1, 2, 3]\n"
     ]
    }
   ],
   "source": [
    "num=int(input(\"Enter your number:\"))\n",
    "if num<=0:\n",
    "    fibo_sequence=[]\n",
    "elif num==1:\n",
    "    fibo_sequence=[0]\n",
    "elif num==2:\n",
    "    fibo_sequence=[0,1]\n",
    "else:\n",
    "    fibo_sequence=[0,1]\n",
    "    for i in range(2,num):\n",
    "        next_number=fibo_sequence[-1]+fibo_sequence[-2]\n",
    "        fibo_sequence.append(next_number)\n",
    "print(\"Fibonacci sequence of length \",num,\" is\",fibo_sequence)\n"
   ]
  },
  {
   "cell_type": "markdown",
   "id": "c2bae430",
   "metadata": {},
   "source": [
    "14. Write a program that checks if a given number is prime or not."
   ]
  },
  {
   "cell_type": "code",
   "execution_count": 8,
   "id": "dbe6e967",
   "metadata": {},
   "outputs": [
    {
     "name": "stdout",
     "output_type": "stream",
     "text": [
      "Enter your number:5\n",
      "Prime number.\n"
     ]
    }
   ],
   "source": [
    "num=int(input(\"Enter your number:\"))\n",
    "for i in range(2,num):\n",
    "    if num%i==0:\n",
    "        print(\"Not prime number.\")\n",
    "        break\n",
    "else:\n",
    "    print(\"Prime number.\")"
   ]
  },
  {
   "cell_type": "markdown",
   "id": "c1bd6fc2",
   "metadata": {},
   "source": [
    "15. Write a program that prints the multiplication table of a given number."
   ]
  },
  {
   "cell_type": "code",
   "execution_count": null,
   "id": "2556f292",
   "metadata": {},
   "outputs": [],
   "source": [
    "n=int(input(\"Enter your number:\"))\n",
    "num=10\n",
    "for i in range(1,num+1):\n",
    "    multi=i*n\n",
    "    print(i,\"*\",n,\"=\",multi)"
   ]
  }
 ],
 "metadata": {
  "kernelspec": {
   "display_name": "Python 3 (ipykernel)",
   "language": "python",
   "name": "python3"
  },
  "language_info": {
   "codemirror_mode": {
    "name": "ipython",
    "version": 3
   },
   "file_extension": ".py",
   "mimetype": "text/x-python",
   "name": "python",
   "nbconvert_exporter": "python",
   "pygments_lexer": "ipython3",
   "version": "3.11.7"
  }
 },
 "nbformat": 4,
 "nbformat_minor": 5
}
